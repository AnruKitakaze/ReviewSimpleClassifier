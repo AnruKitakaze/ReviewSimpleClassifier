{
  "nbformat": 4,
  "nbformat_minor": 0,
  "metadata": {
    "colab": {
      "name": "ReviewSimpleClassifier.ipynb",
      "provenance": [],
      "collapsed_sections": []
    },
    "kernelspec": {
      "name": "python3",
      "display_name": "Python 3"
    },
    "language_info": {
      "name": "python"
    }
  },
  "cells": [
    {
      "cell_type": "markdown",
      "metadata": {
        "id": "aXbMJLtm4wYs"
      },
      "source": [
        "# Сводка\n",
        "\n",
        "Ссылка на тестовое задание: https://docs.google.com/document/d/1F3tKzkYt2GDDR9T53kyOg2oYYGndh60nfYQXMa0t1HY/edit?usp=sharing\n",
        "\n",
        "Цели (1/1): Построение анализатора тональности обзоров Steam на основе заданного корпуса текстов\n",
        "\n",
        "Задачи (11/11)\n",
        "\n",
        "Дополнительные задачи (0/2)"
      ]
    },
    {
      "cell_type": "markdown",
      "metadata": {
        "id": "6MHm37zgzxiC"
      },
      "source": [
        "# Ипорты"
      ]
    },
    {
      "cell_type": "code",
      "metadata": {
        "id": "2hTdUWpxafzQ",
        "colab": {
          "base_uri": "https://localhost:8080/"
        },
        "outputId": "8161acb0-daeb-4b94-95ba-df4f39a1d29f"
      },
      "source": [
        "from os import listdir\n",
        "from os.path import isfile, join\n",
        "from google.colab import drive\n",
        "drive.mount('/content/drive')\n",
        "\n",
        "import pandas as pd\n",
        "import numpy as np\n",
        "import scipy.sparse\n",
        "import matplotlib.pyplot as plt\n",
        "\n",
        "import collections\n",
        "import re\n",
        "\n",
        "from sklearn.metrics import accuracy_score\n",
        "from sklearn.linear_model import LogisticRegression\n",
        "from sklearn.pipeline import Pipeline"
      ],
      "execution_count": 1,
      "outputs": [
        {
          "output_type": "stream",
          "text": [
            "Drive already mounted at /content/drive; to attempt to forcibly remount, call drive.mount(\"/content/drive\", force_remount=True).\n"
          ],
          "name": "stdout"
        }
      ]
    },
    {
      "cell_type": "markdown",
      "metadata": {
        "id": "o0EIfLtd5Iqr"
      },
      "source": [
        "# Предобработка данных"
      ]
    },
    {
      "cell_type": "markdown",
      "metadata": {
        "id": "dH0U4SmTz_o2"
      },
      "source": [
        "## Считывание данных и разделение на две выборки"
      ]
    },
    {
      "cell_type": "code",
      "metadata": {
        "id": "L_oxsQOms1X1"
      },
      "source": [
        "def get_reviews():\n",
        "    \"\"\"\n",
        "    Читает данные из папки Google Drive Colab Notebooks/ReviewSimpleClassifier/\n",
        "    и возвращает датафрейм только с текстом ревью и оценкой\n",
        "    \"\"\"\n",
        "    data = pd.read_csv('drive/MyDrive/Colab Notebooks/ReviewSimpleClassifier/FallGuysSteamReviews.csv')\n",
        "    reviews = data[[\"review\", \"voted_up\"]]\n",
        "    return reviews\n",
        "\n",
        "\n",
        "def get_clean_data(df, min_lenght = 3):\n",
        "    \"\"\"\n",
        "    Возвращает датафрейм\n",
        "    Чистка от слишком коротких ревью\n",
        "    \"\"\"\n",
        "    new_df = df[df[\"review\"].map(lambda x: len(str(x))) >= min_lenght]\n",
        "    return new_df\n"
      ],
      "execution_count": 2,
      "outputs": []
    },
    {
      "cell_type": "code",
      "metadata": {
        "colab": {
          "base_uri": "https://localhost:8080/"
        },
        "id": "Ur7R558M1crj",
        "outputId": "96cfa061-3a27-48ef-f69b-475668965ce7"
      },
      "source": [
        "data = get_clean_data(get_reviews())\n",
        "\n",
        "data_vu = data[data['voted_up']].iloc[:10000]\n",
        "data_vd = data[data['voted_up'] == False].iloc[:10000]\n",
        "\n",
        "train_source = pd.concat([data_vu.iloc[:7000], data_vd.iloc[:7000]], ignore_index=True)\n",
        "test_source = pd.concat([data_vu.iloc[7000:], data_vd.iloc[7000:]], ignore_index=True)\n",
        "\n",
        "print(\"Доля позитивных обзоров в обучающей выборке\", \n",
        "      len(train_source[train_source[\"voted_up\"]==True])/len(train_source))\n",
        "print(\"Доля позитивных обзоров в тестовой выборке\", \n",
        "      len(test_source[test_source[\"voted_up\"]==True])/len(test_source))\n"
      ],
      "execution_count": 3,
      "outputs": [
        {
          "output_type": "stream",
          "text": [
            "Доля позитивных обзоров в обучающей выборке 0.5\n",
            "Доля позитивных обзоров в тестовой выборке 0.5\n"
          ],
          "name": "stdout"
        }
      ]
    },
    {
      "cell_type": "markdown",
      "metadata": {
        "id": "K3div5EX5GTh"
      },
      "source": [
        "## Токенизация и чистка от стоп-слов"
      ]
    },
    {
      "cell_type": "code",
      "metadata": {
        "id": "k33BGZyp5ALt"
      },
      "source": [
        "def get_stopwords():\n",
        "    \"\"\"\n",
        "    Возвращает список стоп-слов\n",
        "    Считывает информацию из Google Drive Colab Notebooks/ReviewSimpleClassifier/\n",
        "    \"\"\"\n",
        "    stopwords = []\n",
        "    with open('drive/MyDrive/Colab Notebooks/ReviewSimpleClassifier/stopwords.txt') as source:\n",
        "        stopwords = [line.replace('\\n', '') for line in source.readlines()]\n",
        "    return stopwords\n",
        "\n",
        "\n",
        "def tokenize_text_simple_regex(text, min_token_size=2, stopwords=None):\n",
        "    \"\"\"\n",
        "    Возвращает list с токенизированным на основе регулярного выражения \n",
        "    и списка стоп-слов текстом\n",
        "    \"\"\"\n",
        "    TOKEN_RE = re.compile(r'[\\w\\d]+')\n",
        "    if stopwords is None:\n",
        "        stopwords = get_stopwords()\n",
        "\n",
        "    text = str(text).lower()\n",
        "    all_tokens = TOKEN_RE.findall(text)\n",
        "    return [token for token in all_tokens if len(token) >= min_token_size and not token in stopwords]\n"
      ],
      "execution_count": 4,
      "outputs": []
    },
    {
      "cell_type": "code",
      "metadata": {
        "colab": {
          "base_uri": "https://localhost:8080/"
        },
        "id": "6yXmuFoU2kpG",
        "outputId": "90900b93-995e-4323-8866-36d1d23a951a"
      },
      "source": [
        "# TODO: Использовать .loc[] для работы с датафреймами, чтобы возвращать \n",
        "# представление, а не копию, так как пандас ругается\n",
        "train_source[\"review\"] = train_source[\"review\"].apply(tokenize_text_simple_regex)\n",
        "test_source[\"review\"] = test_source[\"review\"].apply(tokenize_text_simple_regex)\n",
        "\n",
        "train_tokenized = get_clean_data(train_source)\n",
        "test_tokenized = get_clean_data(test_source)\n",
        "\n",
        "print(\"Число записей в токенизированной обучающей выборке\", len(train_tokenized[\"review\"]))\n",
        "print(\"Число записей в токенизированной тестовой выборке\", len(test_tokenized[\"review\"]))"
      ],
      "execution_count": 5,
      "outputs": [
        {
          "output_type": "stream",
          "text": [
            "Число записей в токенизированной обучающей выборке 13924\n",
            "Число записей в токенизированной тестовой выборке 5978\n"
          ],
          "name": "stdout"
        }
      ]
    },
    {
      "cell_type": "markdown",
      "metadata": {
        "id": "vGFhg14aYBGk"
      },
      "source": [
        "## Построение словаря токенов"
      ]
    },
    {
      "cell_type": "code",
      "metadata": {
        "id": "Hf2ic9SAYCpx"
      },
      "source": [
        "def build_vocabulary(tokenized_texts, max_size=1000000, max_doc_freq=0.8, min_count=5, pad_word=None):\n",
        "    \"\"\"\n",
        "    Возвращает словарь и NumPy массив с нормированными частотами слов\n",
        "    \"\"\"\n",
        "    word_counts = collections.defaultdict(int)\n",
        "    doc_n = 0\n",
        "\n",
        "    # посчитать количество документов, в которых употребляется каждое слово\n",
        "    # а также общее количество документов\n",
        "    for txt in tokenized_texts:\n",
        "        doc_n += 1\n",
        "        unique_text_tokens = set(txt)\n",
        "        for token in unique_text_tokens:\n",
        "            word_counts[token] += 1\n",
        "\n",
        "    # убрать слишком редкие и слишком частые слова\n",
        "    word_counts = {word: cnt for word, cnt in word_counts.items()\n",
        "                   if cnt >= min_count and cnt / doc_n <= max_doc_freq}\n",
        "\n",
        "    # отсортировать слова по убыванию частоты\n",
        "    sorted_word_counts = sorted(word_counts.items(),\n",
        "                                reverse=True,\n",
        "                                key=lambda pair: pair[1])\n",
        "\n",
        "    # добавим несуществующее слово с индексом 0 для удобства пакетной обработки\n",
        "    if pad_word is not None:\n",
        "        sorted_word_counts = [(pad_word, 0)] + sorted_word_counts\n",
        "\n",
        "    # если у нас по прежнему слишком много слов, оставить только max_size самых частотных\n",
        "    if len(word_counts) > max_size:\n",
        "        sorted_word_counts = sorted_word_counts[:max_size]\n",
        "\n",
        "    # нумеруем слова\n",
        "    word2id = {word: i for i, (word, _) in enumerate(sorted_word_counts)}\n",
        "\n",
        "    # нормируем частоты слов\n",
        "    word2freq = np.array([cnt / doc_n for _, cnt in sorted_word_counts], dtype='float32')\n",
        "\n",
        "    return word2id, word2freq\n"
      ],
      "execution_count": 6,
      "outputs": []
    },
    {
      "cell_type": "markdown",
      "metadata": {
        "id": "ZcgQAifHB7vB"
      },
      "source": [
        "Мы будем отсеивать те слова, которые встречаются менее 5 раз, а также те, которые встречаются в 80 или более процентах текстов"
      ]
    },
    {
      "cell_type": "code",
      "metadata": {
        "id": "q02rs7vYaDD_",
        "colab": {
          "base_uri": "https://localhost:8080/"
        },
        "outputId": "c3cdea37-6d17-4cee-bc74-a1052f0957f9"
      },
      "source": [
        "MAX_DF = 0.8\n",
        "MIN_COUNT = 5\n",
        "\n",
        "vocabulary, word_doc_freq = build_vocabulary(train_tokenized[\"review\"].tolist(), max_doc_freq=MAX_DF, min_count=MIN_COUNT)\n",
        "UNIQUE_WORDS_N = len(vocabulary)\n",
        "print('Количество уникальных токенов', UNIQUE_WORDS_N)\n",
        "print(\"Первые 10 наиболее частых токенов в словаре\\n\", list(vocabulary.items())[:10])"
      ],
      "execution_count": 7,
      "outputs": [
        {
          "output_type": "stream",
          "text": [
            "Количество уникальных токенов 3285\n",
            "Первые 10 наиболее частых токенов в словаре\n",
            " [('game', 0), ('fun', 1), ('good', 2), ('play', 3), ('hackers', 4), ('cheaters', 5), ('get', 6), ('games', 7), ('like', 8), ('time', 9)]\n"
          ],
          "name": "stdout"
        }
      ]
    },
    {
      "cell_type": "markdown",
      "metadata": {
        "id": "XI0yMhXZoGlm"
      },
      "source": [
        "## Гистограмма для распределения относительных частот слов. \n",
        "\n",
        "Закон Ципфа выполняется."
      ]
    },
    {
      "cell_type": "code",
      "metadata": {
        "id": "nz_YEd8ompyv",
        "colab": {
          "base_uri": "https://localhost:8080/",
          "height": 281
        },
        "outputId": "a9f92d9e-e052-4fd3-9980-7242d1fcf23a"
      },
      "source": [
        "plt.hist(word_doc_freq, bins=20)\n",
        "plt.title('Распределение относительных частот слов')\n",
        "plt.yscale('log');"
      ],
      "execution_count": 8,
      "outputs": [
        {
          "output_type": "display_data",
          "data": {
            "image/png": "[encoded data removed]",
            "text/plain": [
              "<Figure size 432x288 with 1 Axes>"
            ]
          },
          "metadata": {
            "tags": [],
            "needs_background": "light"
          }
        }
      ]
    },
    {
      "cell_type": "markdown",
      "metadata": {
        "id": "B6U0rv8Z9hpD"
      },
      "source": [
        "## Удаление текстов, в которых нет ни одного токена.\n",
        "\n",
        "Вынуждены пожертвовать частью данных, в которых не обнаруживается токенов из словаря, так как в противном случае у нас появится множество пустых (с точки зрения полезной информации) строк, которые каким-то образом должны приводить классификатор к различным результатам.\n"
      ]
    },
    {
      "cell_type": "code",
      "metadata": {
        "id": "giKAyvcd9lID",
        "colab": {
          "base_uri": "https://localhost:8080/"
        },
        "outputId": "a33b2886-a2c6-4e21-9d17-1b875687c033"
      },
      "source": [
        "def has_token_in_text(tokenized_data, vocabulary):\n",
        "    \"\"\"\n",
        "    Возвращает list bool'ов с информацией, имеется ли в тексте токенизированного \n",
        "    датафрейма хотя бы один токен из сформированного словаря\n",
        "    \"\"\"\n",
        "    # TODO: Использовать .loc[] для работы с датафреймами, чтобы возвращать \n",
        "    # представление, а не копию, так как пандас ругается\n",
        "    has_token = []\n",
        "    for index, row in tokenized_data.iterrows():\n",
        "        is_token = False\n",
        "        for token in list(vocabulary.keys()):\n",
        "            if token in row['review']:\n",
        "                is_token = True\n",
        "                break;\n",
        "        has_token += [is_token]\n",
        "    return has_token\n",
        "\n",
        "\n",
        "train_tokenized['has_token'] = has_token_in_text(train_tokenized, vocabulary)\n",
        "train_tokenized = train_tokenized[train_tokenized['has_token'] == True]\n",
        "\n",
        "test_tokenized['has_token'] = has_token_in_text(test_tokenized, vocabulary)\n",
        "test_tokenized = test_tokenized[test_tokenized['has_token'] == True]\n",
        "\n",
        "print(\"Число записей в обучающей выборке после удаления текстов\",\n",
        "      \"без токенов из словаря =\", len(train_tokenized[\"review\"]))\n",
        "print(\"Число записей в тестовой выборке после удаления текстов\",\n",
        "      \"без токенов из словаря =\", len(test_tokenized[\"review\"]))"
      ],
      "execution_count": 9,
      "outputs": [
        {
          "output_type": "stream",
          "text": [
            "/usr/local/lib/python3.7/dist-packages/ipykernel_launcher.py:19: SettingWithCopyWarning: \n",
            "A value is trying to be set on a copy of a slice from a DataFrame.\n",
            "Try using .loc[row_indexer,col_indexer] = value instead\n",
            "\n",
            "See the caveats in the documentation: https://pandas.pydata.org/pandas-docs/stable/user_guide/indexing.html#returning-a-view-versus-a-copy\n"
          ],
          "name": "stderr"
        },
        {
          "output_type": "stream",
          "text": [
            "Число записей в обучающей выборке после удаления текстов без токенов из словаря = 13322\n",
            "Число записей в тестовой выборке после удаления текстов без токенов из словаря = 5694\n"
          ],
          "name": "stdout"
        },
        {
          "output_type": "stream",
          "text": [
            "/usr/local/lib/python3.7/dist-packages/ipykernel_launcher.py:22: SettingWithCopyWarning: \n",
            "A value is trying to be set on a copy of a slice from a DataFrame.\n",
            "Try using .loc[row_indexer,col_indexer] = value instead\n",
            "\n",
            "See the caveats in the documentation: https://pandas.pydata.org/pandas-docs/stable/user_guide/indexing.html#returning-a-view-versus-a-copy\n"
          ],
          "name": "stderr"
        }
      ]
    },
    {
      "cell_type": "markdown",
      "metadata": {
        "id": "4j3eZS6NmpWp"
      },
      "source": [
        "## Построение матрицы признаков"
      ]
    },
    {
      "cell_type": "code",
      "metadata": {
        "id": "rCxK-nwrmqHg"
      },
      "source": [
        "def vectorize_texts(tokenized_texts, word2id, word2freq, scale=True):\n",
        "    \"\"\"\n",
        "    Возвращает разряженную отмасштабированную (опционально) матрицу с TFIDF\n",
        "    \"\"\"\n",
        "    # считаем количество употреблений каждого слова в каждом документе\n",
        "    result = scipy.sparse.dok_matrix((len(tokenized_texts), len(word2id)), dtype='float32')\n",
        "    for text_i, text in enumerate(tokenized_texts):\n",
        "        for token in text:\n",
        "            if token in word2id:\n",
        "                result[text_i, word2id[token]] += 1\n",
        "\n",
        "    result = result.tocsr()\n",
        "    result = result.multiply(1 / result.sum(1))  # TF\n",
        "    result = result.multiply(1 / word2freq)  # TFIDF\n",
        "\n",
        "    if scale:\n",
        "        result = result.tocsc()\n",
        "        result -= result.min()\n",
        "        result /= (result.max() + 1e-6)\n",
        "\n",
        "    return result.tocsr()\n"
      ],
      "execution_count": 10,
      "outputs": []
    },
    {
      "cell_type": "code",
      "metadata": {
        "id": "dZLh37h6oEvL"
      },
      "source": [
        "train_vectors = vectorize_texts(train_tokenized[\"review\"].tolist(), vocabulary, word_doc_freq)\n",
        "test_vectors = vectorize_texts(test_tokenized[\"review\"].tolist(), vocabulary, word_doc_freq)\n",
        "\n",
        "UNIQUE_LABELS_N = len(set(train_source['voted_up']))"
      ],
      "execution_count": 11,
      "outputs": []
    },
    {
      "cell_type": "markdown",
      "metadata": {
        "id": "H5P3AEZ-ENB1"
      },
      "source": [
        "## Результаты, графики, информация об обработанных данных"
      ]
    },
    {
      "cell_type": "code",
      "metadata": {
        "colab": {
          "base_uri": "https://localhost:8080/"
        },
        "id": "4mgilArgD9Mv",
        "outputId": "218d4766-8961-4516-e3bb-58061c5e46e1"
      },
      "source": [
        "print('Размерность матрицы признаков обучающей выборки', train_vectors.shape)\n",
        "print('Размерность матрицы признаков тестовой выборки', test_vectors.shape)\n",
        "\n",
        "print('\\nКоличество ненулевых элементов в обучающей выборке', train_vectors.nnz)\n",
        "print('Процент заполненности матрицы признаков {:.2f}%'.format(train_vectors.nnz * 100 / (train_vectors.shape[0] * train_vectors.shape[1])))\n",
        "\n",
        "print('\\nКоличество ненулевых элементов в тестовой выборке', test_vectors.nnz)\n",
        "print('Процент заполненности матрицы признаков {:.2f}%'.format(test_vectors.nnz * 100 / (test_vectors.shape[0] * test_vectors.shape[1])))\n",
        "\n",
        "print('\\nКоличество уникальных меток', UNIQUE_LABELS_N)"
      ],
      "execution_count": 12,
      "outputs": [
        {
          "output_type": "stream",
          "text": [
            "Размерность матрицы признаков обучающей выборки (13322, 3285)\n",
            "Размерность матрицы признаков тестовой выборки (5694, 3285)\n",
            "\n",
            "Количество ненулевых элементов в обучающей выборке 168166\n",
            "Процент заполненности матрицы признаков 0.38%\n",
            "\n",
            "Количество ненулевых элементов в тестовой выборке 74488\n",
            "Процент заполненности матрицы признаков 0.40%\n",
            "\n",
            "Количество уникальных меток 2\n"
          ],
          "name": "stdout"
        }
      ]
    },
    {
      "cell_type": "markdown",
      "metadata": {
        "id": "J19gLXxzS8GE"
      },
      "source": [
        "Используются разряженные матрицы из-за большого числа нулей в векторе с данными. Это позволяет экономить память."
      ]
    },
    {
      "cell_type": "code",
      "metadata": {
        "id": "s2jLktDwVCbF",
        "colab": {
          "base_uri": "https://localhost:8080/",
          "height": 281
        },
        "outputId": "d3bfbd14-732a-4a03-980c-77c30698634b"
      },
      "source": [
        "plt.hist(train_vectors.data, bins=20)\n",
        "plt.title('Распределение весов признаков')\n",
        "plt.yscale('log');"
      ],
      "execution_count": 13,
      "outputs": [
        {
          "output_type": "display_data",
          "data": {
            "image/png": "[encoded data removed]",
            "text/plain": [
              "<Figure size 432x288 with 1 Axes>"
            ]
          },
          "metadata": {
            "tags": [],
            "needs_background": "light"
          }
        }
      ]
    },
    {
      "cell_type": "code",
      "metadata": {
        "id": "bMDM2RVbVsxI",
        "colab": {
          "base_uri": "https://localhost:8080/",
          "height": 298
        },
        "outputId": "1f24fef3-4230-43b9-ed1e-da9454e29a29"
      },
      "source": [
        "plt.hist(train_source['voted_up'], bins=np.arange(0, 3))\n",
        "plt.title('Распределение меток в обучающей выборке');"
      ],
      "execution_count": 14,
      "outputs": [
        {
          "output_type": "stream",
          "text": [
            "<string>:6: RuntimeWarning: Converting input from bool to <class 'numpy.uint8'> for compatibility.\n"
          ],
          "name": "stderr"
        },
        {
          "output_type": "display_data",
          "data": {
            "image/png": "[encoded data removed]",
            "text/plain": [
              "<Figure size 432x288 with 1 Axes>"
            ]
          },
          "metadata": {
            "tags": [],
            "needs_background": "light"
          }
        }
      ]
    },
    {
      "cell_type": "code",
      "metadata": {
        "id": "qeHzLElAVxuI",
        "colab": {
          "base_uri": "https://localhost:8080/",
          "height": 298
        },
        "outputId": "3cf2f843-d5da-4218-c8d1-663630b34d4b"
      },
      "source": [
        "\n",
        "plt.hist(test_source['voted_up'], bins=np.arange(0, 3))\n",
        "plt.title('Распределение меток в тестовой выборке');"
      ],
      "execution_count": 15,
      "outputs": [
        {
          "output_type": "stream",
          "text": [
            "<string>:6: RuntimeWarning: Converting input from bool to <class 'numpy.uint8'> for compatibility.\n"
          ],
          "name": "stderr"
        },
        {
          "output_type": "display_data",
          "data": {
            "image/png": "[encoded data removed]",
            "text/plain": [
              "<Figure size 432x288 with 1 Axes>"
            ]
          },
          "metadata": {
            "tags": [],
            "needs_background": "light"
          }
        }
      ]
    },
    {
      "cell_type": "markdown",
      "metadata": {
        "id": "eqldfSPdEapL"
      },
      "source": [
        "# Модель и её обучение"
      ]
    },
    {
      "cell_type": "markdown",
      "metadata": {
        "id": "KJ0AooxJEec4"
      },
      "source": [
        "## sklearn.linear_model.LogisticRegression()"
      ]
    },
    {
      "cell_type": "code",
      "metadata": {
        "colab": {
          "base_uri": "https://localhost:8080/"
        },
        "id": "hkWpvRC1EEQ9",
        "outputId": "ae287755-f2da-4650-d962-0b5c60d8c942"
      },
      "source": [
        "from sklearn.linear_model import LogisticRegression\n",
        "train_classes = [1 if x else 0 for x in train_tokenized['voted_up'].tolist()]\n",
        "clf = LogisticRegression(random_state=0)\n",
        "clf.fit(train_vectors, train_classes)\n",
        "\n",
        "test_classes = [1 if x else 0 for x in test_tokenized['voted_up'].tolist()]\n",
        "clf.predict(test_vectors)\n",
        "clf.predict_proba(test_vectors)\n",
        "print(\"Точность классификации на тестовой выборе =\",clf.score(test_vectors, test_classes))"
      ],
      "execution_count": 16,
      "outputs": [
        {
          "output_type": "stream",
          "text": [
            "Точность классификации на тестовой выборе = 0.5361784334387074\n"
          ],
          "name": "stdout"
        }
      ]
    },
    {
      "cell_type": "markdown",
      "metadata": {
        "id": "p7B_6ztFR8JX"
      },
      "source": [
        "Надо заметить, что большая ошибка обусловлена выбором Логистической Регрессии как способа классификации. Скорее всего, наши классы линейно неразделимы."
      ]
    },
    {
      "cell_type": "markdown",
      "metadata": {
        "id": "2YzQi4LLU2i5"
      },
      "source": [
        "# Оценка качества классификации"
      ]
    },
    {
      "cell_type": "code",
      "metadata": {
        "id": "jy_iXrr4MKek"
      },
      "source": [
        "# TODO: Придумать нормальное имя для таблицы контингентности\n",
        "def get_table(test_classes, predicted_classes, target_class_value):\n",
        "    table = {'True-Positive': 0,\n",
        "             'False-Positive': 0,\n",
        "             'False-Negative': 0,\n",
        "             'True-Negative': 0}\n",
        "    for i in range(len(test_classes)):\n",
        "        if predicted_classes[i] == target_class_value and test_classes[i] == target_class_value:\n",
        "            table['True-Positive'] += 1\n",
        "        elif predicted_classes[i] == target_class_value and test_classes[i] != target_class_value:\n",
        "            table['False-Positive'] += 1\n",
        "        elif predicted_classes[i] != target_class_value and test_classes[i] == target_class_value:\n",
        "            table['False-Negative'] += 1\n",
        "        else:\n",
        "            table['True-Negative'] += 1\n",
        "    return table"
      ],
      "execution_count": 17,
      "outputs": []
    },
    {
      "cell_type": "markdown",
      "metadata": {
        "id": "vCS4BP5dbLJA"
      },
      "source": [
        "Для начала получим таблицу контингентности для каждого класса (0 - негативный обзор, 1 - позитивный обзор)"
      ]
    },
    {
      "cell_type": "code",
      "metadata": {
        "colab": {
          "base_uri": "https://localhost:8080/"
        },
        "id": "rivftjDfYsRj",
        "outputId": "fdc7618f-1191-4b25-9908-428681f81ea5"
      },
      "source": [
        "predicted_classes = list(clf.predict(test_vectors))\n",
        "\n",
        "vote_down_class = get_table(test_classes, predicted_classes, 0)\n",
        "vote_up_class = get_table(test_classes, predicted_classes, 1)\n",
        "\n",
        "print(vote_down_class)\n",
        "print(vote_up_class)"
      ],
      "execution_count": 18,
      "outputs": [
        {
          "output_type": "stream",
          "text": [
            "{'True-Positive': 2911, 'False-Positive': 2618, 'False-Negative': 23, 'True-Negative': 142}\n",
            "{'True-Positive': 142, 'False-Positive': 23, 'False-Negative': 2618, 'True-Negative': 2911}\n"
          ],
          "name": "stdout"
        }
      ]
    },
    {
      "cell_type": "markdown",
      "metadata": {
        "id": "sb2psz86bAEH"
      },
      "source": [
        "Вычисление значений точности, полноты и F-меры для каждого класса:"
      ]
    },
    {
      "cell_type": "code",
      "metadata": {
        "id": "TU_c4URChsV7"
      },
      "source": [
        "def get_precision(contingency_table):\n",
        "    \"\"\"\n",
        "    Возвращает целое значение - точность. Она показывает долю документов\n",
        "    действительно принадлежащих классу среди всех документов, которые \n",
        "    система отнесла к данному классу\n",
        "    \"\"\"\n",
        "    return contingency_table['True-Positive']/(contingency_table['True-Positive'] + contingency_table['False-Positive'])\n",
        "\n",
        "\n",
        "def get_recall(contingency_table):\n",
        "    \"\"\"\n",
        "    Возвращает целое значение - полноту. Она показывает долю найденных классификатором\n",
        "    документов принадлежащих данному классу относительно всех документов\n",
        "    этого класса в тестовой выборке\n",
        "    \"\"\"\n",
        "    return contingency_table['True-Positive']/(contingency_table['True-Positive'] + contingency_table['False-Negative'])\n",
        "\n",
        "\n",
        "def get_f_measure(precision, recall):\n",
        "    \"\"\"\n",
        "    Возвращает целое значение - F-меру. Она объединяет информацию о точности\n",
        "    и полноте и представляет собой гармоническое среднее между ними\n",
        "    \"\"\"\n",
        "    return 2 * (precision * recall)/(precision + recall)\n"
      ],
      "execution_count": 30,
      "outputs": []
    },
    {
      "cell_type": "code",
      "metadata": {
        "id": "49viLSGmZx_w"
      },
      "source": [
        "precision_vd = get_precision(vote_down_class)\n",
        "recall_vd = get_recall(vote_down_class)\n",
        "f_measure_vd = get_f_measure(precision_vd, recall_vd)\n",
        "\n",
        "precision_vu = get_precision(vote_up_class)\n",
        "recall_vu = get_recall(vote_up_class)\n",
        "f_measure_vu = get_f_measure(precision_vu, recall_vu)"
      ],
      "execution_count": 31,
      "outputs": []
    },
    {
      "cell_type": "code",
      "metadata": {
        "colab": {
          "base_uri": "https://localhost:8080/"
        },
        "id": "WobC2F7nbXCT",
        "outputId": "9fecb45c-34d3-4201-b7bc-1974bf50c65c"
      },
      "source": [
        "print(\"Качество классификации негативных обзоров:\")\n",
        "print(f'Точность {precision_vd:.4f}')\n",
        "print(f'Полнота {recall_vd:.4f}')\n",
        "print(f'F-мера {f_measure_vd:.4f}')\n",
        "\n",
        "print('\\nКачество классификации позитивных обзоров:')\n",
        "print(f'Точность {precision_vu:.4f}')\n",
        "print(f'Полнота {recall_vu:.4f}')\n",
        "print(f'F-мера {f_measure_vu:.4f}')"
      ],
      "execution_count": 32,
      "outputs": [
        {
          "output_type": "stream",
          "text": [
            "Качество классификации негативных обзоров:\n",
            "Точность 0.5265\n",
            "Полнота 0.9922\n",
            "F-мера 0.6879\n",
            "\n",
            "Качество классификации позитивных обзоров:\n",
            "Точность 0.8606\n",
            "Полнота 0.0514\n",
            "F-мера 0.0971\n"
          ],
          "name": "stdout"
        }
      ]
    }
  ]
}